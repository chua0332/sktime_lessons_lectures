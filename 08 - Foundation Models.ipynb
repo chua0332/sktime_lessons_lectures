{
 "cells": [
  {
   "cell_type": "markdown",
   "metadata": {},
   "source": [
    "# Foundation Models for Forecasting"
   ]
  },
  {
   "cell_type": "markdown",
   "metadata": {},
   "source": [
    "* foundation models - concepts and introduction\n",
    "* managing weights, data, model code, APIs\n",
    "* using forecasting foundation models\n",
    "* unified `sktime` interface\n",
    "* best practice recommendations"
   ]
  },
  {
   "cell_type": "code",
   "execution_count": 1,
   "metadata": {},
   "outputs": [],
   "source": [
    "import warnings\n",
    "\n",
    "warnings.filterwarnings(\"ignore\")"
   ]
  },
  {
   "cell_type": "markdown",
   "metadata": {},
   "source": [
    "## What is a foundation model?"
   ]
  },
  {
   "cell_type": "markdown",
   "metadata": {},
   "source": [
    "foundation model (FM) = **pre-trained models** that perform well on a wider range of data\n",
    "\n",
    "\"forecasting FM\" = for the task of uni/multivariate forecasting"
   ]
  },
  {
   "cell_type": "markdown",
   "metadata": {},
   "source": [
    "typically (but not necessarily) uses \"transformer\" or other advanced deep learning architecture"
   ]
  },
  {
   "cell_type": "markdown",
   "metadata": {},
   "source": [
    "**how FM are typically used:**\n",
    "\n",
    "1. provider trains model on large amount of data (secret/closed)\n",
    "2. weights and code put online on marketplace (e.g., huggingface, replicate)\n",
    "3. user forecasts using weights on their data"
   ]
  },
  {
   "cell_type": "markdown",
   "metadata": {},
   "source": [
    "<img src=\"./imgs/global-fcst.png\" alt=\"Global Forecast\" style=\"width: 100%; max-width: 600px;\">"
   ]
  },
  {
   "cell_type": "markdown",
   "metadata": {},
   "source": [
    "**pre-trained model above typically from weight repository**\n",
    "\n",
    "* \"semi-open model\" - weights can be downloaded and used with open code\n",
    "* \"gated model\" - weights not accessible, only gated API (paid service subscription)"
   ]
  },
  {
   "cell_type": "markdown",
   "metadata": {},
   "source": [
    "pre-trained on batches that are:\n",
    "* typically large\n",
    "* across various domains\n",
    "* *not accessible to the end user*"
   ]
  },
  {
   "cell_type": "markdown",
   "metadata": {},
   "source": [
    "**learning tasks**\n",
    "\n",
    "* \"originally\": language prompting and generative language tasks\n",
    "* forecasting: typically, univariate or multivariate forecasting\n",
    "* other time series tasks may be supported but are rare"
   ]
  },
  {
   "cell_type": "markdown",
   "metadata": {},
   "source": [
    "**relation to global forecasting**:\n",
    "\n",
    "FM vanilla use are a form of \"global forecasting\" where:\n",
    "\n",
    "* \"global training\" is done by the provider\n",
    "* trained model provided as weights (download or gated)\n",
    "* usage: \"global prediction/inference\" based on these weights"
   ]
  },
  {
   "cell_type": "markdown",
   "metadata": {},
   "source": [
    "same principle! difference = \"trained model handling\"\n",
    "\n",
    "* classical global forecasting = user trains on their own data, often small/mid size\n",
    "* \"foundation models\" = model provider trains on large secret batch, shares only weights"
   ]
  },
  {
   "cell_type": "markdown",
   "metadata": {},
   "source": [
    "<img src=\"./imgs/global-fcst.png\" alt=\"Global Forecast\" style=\"width: 100%; max-width: 600px;\">"
   ]
  },
  {
   "cell_type": "markdown",
   "metadata": {},
   "source": [
    "**zero-shot, few-shot, and fine-tuning**\n",
    "\n",
    "* **zero-shot** = model does no training on user data, just \"ingests\" as \"context\"\n",
    "* **few-shot** = model can be trained on user data samples to improve. Core model weights do not change.\n",
    "* **fine-tuning** = adapting core model weights to user data, e.g., via LoRA, PEFT"
   ]
  },
  {
   "cell_type": "markdown",
   "metadata": {},
   "source": [
    "**schematic overview weight flow diagram for semi-open model**"
   ]
  },
  {
   "cell_type": "markdown",
   "metadata": {},
   "source": [
    "<img src=\"./imgs/FM conceptual.jpg\" style=\"width: 100%; max-width: 600px;\">"
   ]
  },
  {
   "cell_type": "markdown",
   "metadata": {},
   "source": [
    "**gated model: weights are not downloadable but gated behind paywall**"
   ]
  },
  {
   "cell_type": "markdown",
   "metadata": {},
   "source": [
    "**\"degrees of openness\"**\n",
    "\n",
    "| Component                        | Commonly (2024–2025 Trend)    | Caveats |\n",
    "|----------------------------------|--------------------------------------------|----------|\n",
    "| Model Weights                    | ✅❌ Varies! Gated vs open | Lots of propaganda by providers |\n",
    "| Inference Code                   | ✅❌ Varies! Gated vs open | usually open iff weights are |\n",
    "| Model Architecture               | ✅ Mostly Open | visible for non-gated models |\n",
    "| Training Code                    | ❌ Mostly Closed | \"reveals\" may be strategic, e.g., DeepSeek |\n",
    "| Training Data                    | ❌ Mostly Closed | might involve public benchmarks |\n",
    "| Data Collection Methodology      | ❌ Omitted or Vague | likely massive IP violations |\n",
    "| Evaluation Benchmarks Used       | ✅ Often Open | propaganda - every model is \"1st\" |\n",
    "| Fine-tuning Recipes              | ✅❌ Varies! Gated vs open | \"gated fine-tuning\" as model |\n",
    "| Licenses  Information            | ✅❌ Varies. | stealth changes possible! |"
   ]
  },
  {
   "cell_type": "markdown",
   "metadata": {},
   "source": [
    "capabilities and properties:\n",
    "\n",
    "* \"degrees of openness\" (see above)\n",
    "* learning task - univariate, multivariate forecasting; other time series tasks\n",
    "* capability zero-shot, few-shot, fine-tune"
   ]
  },
  {
   "cell_type": "markdown",
   "metadata": {},
   "source": [
    "### Time series foundation models in practice"
   ]
  },
  {
   "cell_type": "markdown",
   "metadata": {},
   "source": [
    "Users should be aware of three dimensions:\n",
    "\n",
    "* **methodological abstractions** - e.g., which task, how to test/benchmark\n",
    "* **software & artefact handling** - e.g., library, weights, APIs\n",
    "* **commercial & legal** - e.g., \"lock-in\", contracts, licenses"
   ]
  },
  {
   "cell_type": "markdown",
   "metadata": {},
   "source": [
    "**High-level caveats - methodological**\n",
    "\n",
    "lots of commercial propaganda...\n",
    "\n",
    "* every model is 1st on some leaderboard\n",
    "* pre-training batch is secret, could have contained public benchmark data\n",
    "* massive influencer campaigns on social media and via academia (!)\n",
    "* marketing claims may or may not hold up to scrutiny\n",
    "\n",
    "Models may or may not work on your data!\n",
    "\n",
    "**IMPORTANT: need to benchmark models on your own data**\n",
    "\n",
    "will revisit below."
   ]
  },
  {
   "cell_type": "markdown",
   "metadata": {},
   "source": [
    "**High-level caveats - commercial & legal**\n",
    "\n",
    "* gated models as core business model of companies! e.g., Nixtla, Prior labs\n",
    "* models of equivalent performance may be available semi-open or fully open\n",
    "\n",
    "Do the pros/cons - consider trade-offs, e.g.\n",
    "\n",
    "* costs (running/initial)\n",
    "* legal liabilities, licenses\n",
    "* data protection, control of IP relevant content!\n",
    "\n",
    "will revisit below."
   ]
  },
  {
   "cell_type": "markdown",
   "metadata": {},
   "source": [
    "**High-level caveats - software/artefacts**\n",
    "\n",
    "2025 state: model code not easily installable! (outside `sktime`)\n",
    "\n",
    "* most models have no proper package releases\n",
    "* heavy or conflicted dependency sets\n",
    "* highly inconsistent API\n",
    "* often intentional push to user \"lock-in\" or \"lock-down\", esp gated\n",
    "\n",
    "will revisit below."
   ]
  },
  {
   "cell_type": "markdown",
   "metadata": {},
   "source": [
    "### Handling FM under consistent API with `sktime`"
   ]
  },
  {
   "cell_type": "markdown",
   "metadata": {},
   "source": [
    "`sktime` is the only framework where you can get these in a single place!"
   ]
  },
  {
   "cell_type": "markdown",
   "metadata": {},
   "source": [
    "| Foundation Model | Provider | `sktime` estimator | open? | vendored? |\n",
    "|------------------|----------|--------------------|------------|-------|\n",
    "| Chronos(-Bolt)  | Amazon | `ChronosForecaster` | semi | Yes |\n",
    "| LagLlama | Zalando | `LagLlamaForecaster` (PR stalled) | semi | Yes |\n",
    "| MOIRAI | Salesforce | `MOIRAIForecaster` | semi | Yes |\n",
    "| momentfm | US academia | `MomentFMForecaster` (next release) | semi | Yes |\n",
    "| PatchTST | IBM | `PatchTSTForecaster` (PR stalled) | semi | Yes |\n",
    "| Time-LLM | China | `TimeLLMForecaster` | semi | Yes |\n",
    "| Time-MoE | China | `TimeMoEForecaster` | semi | Yes |\n",
    "| TimesFM | Google | `TimesFMForecaster` | semi | Yes |\n",
    "| TinyTimeMixer | IBM | `TinyTimeMixerForecaster` | semi | Yes |\n",
    "\n",
    "Foundation model wishlist and tracking issue:\n",
    "\n",
    "https://github.com/sktime/sktime/issues/6177\n",
    "\n",
    "(gated models are in-scope, but not prioritized)\n"
   ]
  },
  {
   "cell_type": "markdown",
   "metadata": {},
   "source": [
    "without `sktime`, highly inconsistent APIs, compare:"
   ]
  },
  {
   "cell_type": "markdown",
   "metadata": {},
   "source": [
    "**Moirai**\n",
    "```\n",
    "model = MoiraiForecast(\n",
    "    module=MoiraiModule.from_pretrained(f\"Salesforce/moirai-1.0-R-small\"),\n",
    "    prediction_length=prediction_length,\n",
    "    context_length=context_length,\n",
    "    patch_size=patch_size,\n",
    "    num_samples=100,\n",
    "    target_dim=1,\n",
    "    feat_dynamic_real_dim=ds.num_feat_dynamic_real,\n",
    "    past_feat_dynamic_real_dim=ds.num_past_feat_dynamic_real,\n",
    ")\n",
    "\n",
    "predictor = model.create_predictor(batch_size=batch_size)\n",
    "forecasts = predictor.predict(test_data.input)\n",
    "```"
   ]
  },
  {
   "cell_type": "markdown",
   "metadata": {},
   "source": [
    "**TinyTimeMixer**\n",
    "```\n",
    "model, _ = TinyTimeMixerForPrediction.from_pretrained(\n",
    "    model_path,\n",
    "    revision=revision,\n",
    "    config=config,\n",
    "    output_loading_info=True,\n",
    "    ignore_mismatched_sizes=True,\n",
    ")\n",
    "\n",
    "outputs = model(\n",
    "    past_values=past_values,\n",
    "    observed_mask=observed_mask,\n",
    ")\n",
    "```"
   ]
  },
  {
   "cell_type": "markdown",
   "metadata": {},
   "source": [
    "`sktime`-less users need to manage:\n",
    "* **model code**, e.g., source installation\n",
    "* **model code dependencies**, python packages\n",
    "* **weights**, e.g., .pkl, .pt, .bin, .h5 files\n",
    "* **weight dependencies**, python packages"
   ]
  },
  {
   "cell_type": "markdown",
   "metadata": {},
   "source": [
    "`sktime` is **the only package** that provides access to many FM under single interface.\n",
    "\n",
    "**users first** and **neutrality** mission.\n",
    "\n",
    "(donations accepted via gcos.ai and tax deductible)"
   ]
  },
  {
   "cell_type": "markdown",
   "metadata": {},
   "source": [
    "`sktime` API abstracts this away and manages on framework level"
   ]
  },
  {
   "cell_type": "markdown",
   "metadata": {},
   "source": [
    "<img src=\"./imgs/fm-simple.png\" alt=\"Foundation Model Overview\" style=\"width: 100%; max-width: 600px;\">"
   ]
  },
  {
   "cell_type": "code",
   "execution_count": 1,
   "metadata": {},
   "outputs": [],
   "source": [
    "from sktime.datasets import load_airline\n",
    "\n",
    "# Load the dataset for example\n",
    "y = load_airline()\n",
    "\n",
    "# DL models need to set a prediction length (same as simpler DL models)\n",
    "pred_len = 16"
   ]
  },
  {
   "cell_type": "markdown",
   "metadata": {},
   "source": [
    "#### Example: TinyTimeMixer"
   ]
  },
  {
   "cell_type": "markdown",
   "metadata": {},
   "source": [
    "- **Research Paper:** [Tiny Time Mixers (TTMs): Fast Pre-trained Models for Enhanced Zero/Few-Shot Forecasting of Multivariate Time Series](https://www.researchgate.net/profile/Vijay-Ekambaram/publication/381111250_Tiny_Time_Mixers_TTMs_Fast_Pre-trained_Models_for_Enhanced_ZeroFew-Shot_Forecasting_of_Multivariate_Time_Series/links/665d8c5d0b0d2845747de5f5/Tiny-Time-Mixers-TTMs-Fast-Pre-trained-Models-for-Enhanced-Zero-Few-Shot-Forecasting-of-Multivariate-Time-Series.pdf)\n",
    "- **Official Code:** [ibm-granite/granite-tsfm](https://github.com/ibm-granite/granite-tsfm)"
   ]
  },
  {
   "cell_type": "code",
   "execution_count": 2,
   "metadata": {},
   "outputs": [],
   "source": [
    "from sktime.forecasting.ttm import TinyTimeMixerForecaster"
   ]
  },
  {
   "cell_type": "markdown",
   "metadata": {},
   "source": [
    "**Zero-Shot Forecasting**\n",
    "\n",
    "with the default configuration, model performs zero-shot"
   ]
  },
  {
   "cell_type": "code",
   "execution_count": 3,
   "metadata": {},
   "outputs": [],
   "source": [
    "forecaster = TinyTimeMixerForecaster()\n",
    "\n",
    "forecaster.fit(y, fh=list(range(1, pred_len+1)))\n",
    "y_pred = forecaster.predict()"
   ]
  },
  {
   "cell_type": "code",
   "execution_count": 4,
   "metadata": {},
   "outputs": [
    {
     "data": {
      "text/plain": [
       "(<Figure size 1600x400 with 1 Axes>,\n",
       " <Axes: ylabel='Number of airline passengers'>)"
      ]
     },
     "execution_count": 4,
     "metadata": {},
     "output_type": "execute_result"
    },
    {
     "data": {
      "image/png": "[encoded data removed]",
      "text/plain": [
       "<Figure size 1600x400 with 1 Axes>"
      ]
     },
     "metadata": {},
     "output_type": "display_data"
    }
   ],
   "source": [
    "from sktime.utils.plotting import plot_series\n",
    "\n",
    "plot_series(y, y_pred)"
   ]
  },
  {
   "cell_type": "markdown",
   "metadata": {},
   "source": [
    "where are weights here?\n",
    "\n",
    "given in `model_path`, can be:\n",
    "\n",
    "* `huggingface` model string - uses HF backend then (default)\n",
    "* local path in folder\n",
    "* `None` - full tuning from pristine if `fit_strategy=\"full\"`"
   ]
  },
  {
   "cell_type": "markdown",
   "metadata": {},
   "source": [
    "**Fine-Tuning**\n",
    "\n",
    "works via providing fine-tuning config.\n",
    "\n",
    "Same interface - fine-tunes on input data!"
   ]
  },
  {
   "cell_type": "code",
   "execution_count": 5,
   "metadata": {},
   "outputs": [
    {
     "name": "stderr",
     "output_type": "stream",
     "text": [
      "C:\\Workspace\\sktime\\sktime\\forecasting\\ttm.py:374: UserWarning: Invalid configuration detected. The provided values do not satisfy the required condition:\n",
      "context_length / num_patches == patch_length == patch_stride\n",
      "Provided configuration:\n",
      "- context_length: 32\n",
      "- num_patches: 8\n",
      "- patch_length: 64\n",
      "- patch_stride: 64\n",
      "Configuration has been automatically updated to:\n",
      "- context_length: 32\n",
      "- num_patches: 8\n",
      "- patch_length: 4\n",
      "- patch_stride: 4\n",
      "  warn(msg)\n",
      "Some weights of TinyTimeMixerForPrediction were not initialized from the model checkpoint at ibm/TTM and are newly initialized because the shapes did not match:\n",
      "- backbone.encoder.patcher.weight: found shape torch.Size([192, 64]) in the checkpoint and torch.Size([192, 4]) in the model instantiated\n",
      "- head.base_forecast_block.bias: found shape torch.Size([96]) in the checkpoint and torch.Size([16]) in the model instantiated\n",
      "- head.base_forecast_block.weight: found shape torch.Size([96, 1024]) in the checkpoint and torch.Size([16, 1024]) in the model instantiated\n",
      "You should probably TRAIN this model on a down-stream task to be able to use it for predictions and inference.\n"
     ]
    },
    {
     "data": {
      "application/vnd.jupyter.widget-view+json": {
       "model_id": "b1a14d222f26442da30358ab97c0bf23",
       "version_major": 2,
       "version_minor": 0
      },
      "text/plain": [
       "  0%|          | 0/300 [00:00<?, ?it/s]"
      ]
     },
     "metadata": {},
     "output_type": "display_data"
    },
    {
     "name": "stdout",
     "output_type": "stream",
     "text": [
      "{'train_runtime': 17.5363, 'train_samples_per_second': 387.768, 'train_steps_per_second': 17.107, 'train_loss': 279.64619791666667, 'epoch': 100.0}\n"
     ]
    }
   ],
   "source": [
    "forecaster = TinyTimeMixerForecaster(\n",
    "    config={\n",
    "        \"context_length\": 32,\n",
    "        \"prediction_length\": pred_len,\n",
    "    },\n",
    "    training_args={\n",
    "        \"num_train_epochs\": 100,\n",
    "        \"output_dir\": \"test_output\",\n",
    "        \"per_device_train_batch_size\": 32,\n",
    "        \"report_to\": \"none\",\n",
    "        \"learning_rate\": 1e-2,\n",
    "    },\n",
    ")\n",
    "forecaster.fit(y, fh=list(range(1, pred_len+1)))\n",
    "y_pred = forecaster.predict()"
   ]
  },
  {
   "cell_type": "code",
   "execution_count": 6,
   "metadata": {},
   "outputs": [
    {
     "data": {
      "text/plain": [
       "(<Figure size 1600x400 with 1 Axes>,\n",
       " <Axes: ylabel='Number of airline passengers'>)"
      ]
     },
     "execution_count": 6,
     "metadata": {},
     "output_type": "execute_result"
    },
    {
     "data": {
      "image/png": "[encoded data removed]",
      "text/plain": [
       "<Figure size 1600x400 with 1 Axes>"
      ]
     },
     "metadata": {},
     "output_type": "display_data"
    }
   ],
   "source": [
    "plot_series(y, y_pred)"
   ]
  },
  {
   "cell_type": "markdown",
   "metadata": {},
   "source": [
    "#### TimesFM"
   ]
  },
  {
   "cell_type": "markdown",
   "metadata": {},
   "source": [
    "- **Research Paper:** [A Decoder-Only Foundation Model for Time-Series Forecasting](https://arxiv.org/abs/2310.10688)\n",
    "- **Official Code:** [google-research/timesfm](https://github.com/google-research/timesfm)"
   ]
  },
  {
   "cell_type": "markdown",
   "metadata": {},
   "source": [
    "**Zero-Shot Forecasting**"
   ]
  },
  {
   "cell_type": "code",
   "execution_count": 34,
   "metadata": {},
   "outputs": [],
   "source": [
    "from sktime.forecasting.timesfm_forecaster import TimesFMForecaster\n",
    "\n",
    "forecaster = TimesFMForecaster(\n",
    "    context_len=64,\n",
    "    horizon_len=pred_len,\n",
    ")"
   ]
  },
  {
   "cell_type": "code",
   "execution_count": 36,
   "metadata": {},
   "outputs": [
    {
     "name": "stdout",
     "output_type": "stream",
     "text": [
      "Multiprocessing context has already been set.\n"
     ]
    },
    {
     "data": {
      "application/vnd.jupyter.widget-view+json": {
       "model_id": "50fbe84209d14fed86619ba49d065b4b",
       "version_major": 2,
       "version_minor": 0
      },
      "text/plain": [
       "Fetching 5 files:   0%|          | 0/5 [00:00<?, ?it/s]"
      ]
     },
     "metadata": {},
     "output_type": "display_data"
    },
    {
     "name": "stderr",
     "output_type": "stream",
     "text": [
      "WARNING:absl:No registered CheckpointArgs found for handler type: <class 'paxml.checkpoints.FlaxCheckpointHandler'>\n",
      "WARNING:absl:Configured `CheckpointManager` using deprecated legacy API. Please follow the instructions at https://orbax.readthedocs.io/en/latest/api_refactor.html to migrate by May 1st, 2024.\n",
      "WARNING:absl:train_state_unpadded_shape_dtype_struct is not provided. We assume `train_state` is unpadded.\n",
      "ERROR:absl:For checkpoint version > 1.0, we require users to provide\n",
      "          `train_state_unpadded_shape_dtype_struct` during checkpoint\n",
      "          saving/restoring, to avoid potential silent bugs when loading\n",
      "          checkpoints to incompatible unpadded shapes of TrainState.\n"
     ]
    }
   ],
   "source": [
    "forecaster.fit(y, fh=list(range(1, pred_len+1)))\n",
    "y_pred = forecaster.predict()"
   ]
  },
  {
   "cell_type": "code",
   "execution_count": 37,
   "metadata": {},
   "outputs": [
    {
     "data": {
      "text/plain": [
       "(<Figure size 1600x400 with 1 Axes>,\n",
       " <Axes: ylabel='Number of airline passengers'>)"
      ]
     },
     "execution_count": 37,
     "metadata": {},
     "output_type": "execute_result"
    },
    {
     "data": {
      "image/png": "[encoded data removed]",
      "text/plain": [
       "<Figure size 1600x400 with 1 Axes>"
      ]
     },
     "metadata": {},
     "output_type": "display_data"
    }
   ],
   "source": [
    "plot_series(y, y_pred)"
   ]
  },
  {
   "cell_type": "markdown",
   "metadata": {},
   "source": [
    "### managing model code - `sktime` forks, source install, pypi"
   ]
  },
  {
   "cell_type": "markdown",
   "metadata": {},
   "source": [
    "typical dependency set of an open FM package\n",
    "\n",
    "```\n",
    "[project]\n",
    "...\n",
    "dependencies = [\n",
    "  \"torch>=2.1\",\n",
    "  \"lightning>=2.0\",\n",
    "  \"gluonts~=0.14.3\",\n",
    "  \"numpy~=1.26.0\",\n",
    "  \"scipy~=1.11.3\",\n",
    "  \"einops==0.7.*\",\n",
    "  \"jaxtyping~=0.2.24\",\n",
    "  \"python-dotenv==1.0.0\",\n",
    "  \"hydra-core==1.3\",\n",
    "  ...,\n",
    "]\n",
    "```"
   ]
  },
  {
   "cell_type": "markdown",
   "metadata": {},
   "source": [
    "**`sktime` forks typically more stable, trustworthy, and reliable than official sources!**\n",
    "\n",
    "* optimized dependency management\n",
    "    * often very strict dep requirements - can be impossible to satisfy!\n",
    "    * stability via `sktime` deprecation management\n",
    "* often, no (trustworthy) pypi release available\n",
    "    * source install is unstable, not suitable for deployment\n",
    "    * model code may not be on pypi as package\n",
    "    * non-affiliated people upload inofficial releases - **possible supply chain attacks!**\n",
    "    * `sktime` is \"trusted\" package managed by known people & orgs\n",
    "* license stability\n",
    "    * stealth license changes even by commercial actors!\n",
    "    * licenses remain explicit and stable, deprecation management\n",
    "\n",
    "Default: forked code in [`sktime/libs`](TODO), license attached with the official code is kept as is and clearly visible.\n",
    "\n",
    "Source installation can be selected via `use_source_package` parameter"
   ]
  },
  {
   "cell_type": "markdown",
   "metadata": {},
   "source": [
    "Example, to use `TinyTimeMixer` from source package:"
   ]
  },
  {
   "cell_type": "markdown",
   "metadata": {},
   "source": [
    "1. install from source"
   ]
  },
  {
   "cell_type": "code",
   "execution_count": 7,
   "metadata": {},
   "outputs": [],
   "source": [
    "# e.g., to install the 0.2.3 version of timesfm\n",
    "# !pip install git+https://github.com/ibm-granite/granite-tsfm.git@v0.2.3 --quiet"
   ]
  },
  {
   "cell_type": "markdown",
   "metadata": {},
   "source": [
    "2. set the `use_source_package` flag to `True`"
   ]
  },
  {
   "cell_type": "code",
   "execution_count": 39,
   "metadata": {},
   "outputs": [],
   "source": [
    "forecaster = TinyTimeMixerForecaster(\n",
    "    use_source_package=True,\n",
    ")"
   ]
  },
  {
   "cell_type": "markdown",
   "metadata": {},
   "source": [
    "### Hierarchical and probabilistic forecasting"
   ]
  },
  {
   "cell_type": "markdown",
   "metadata": {},
   "source": [
    "`sktime` automatically manages bhierarchical and probabilistic forecasts for FM!\n",
    "\n",
    "* works via the familiar interface - broadcasting and composition\n",
    "* only a single instance of the FM is spawned in memory in hierarchical or probabilistic ensembles"
   ]
  },
  {
   "cell_type": "markdown",
   "metadata": {},
   "source": [
    "example: let's look at Amazon Chronos bolt.\n",
    "\n",
    "Performance and memory for single time series:"
   ]
  },
  {
   "cell_type": "code",
   "execution_count": 9,
   "metadata": {},
   "outputs": [
    {
     "data": {
      "application/vnd.jupyter.widget-view+json": {
       "model_id": "55fb8730ee00474f98ca6e2bf610547d",
       "version_major": 2,
       "version_minor": 0
      },
      "text/plain": [
       "config.json:   0%|          | 0.00/1.12k [00:00<?, ?B/s]"
      ]
     },
     "metadata": {},
     "output_type": "display_data"
    },
    {
     "name": "stderr",
     "output_type": "stream",
     "text": [
      "c:\\ProgramData\\anaconda3\\envs\\sktime-skpro-skbase-312\\Lib\\site-packages\\huggingface_hub\\file_download.py:159: UserWarning: `huggingface_hub` cache-system uses symlinks by default to efficiently store duplicated files but your machine does not support them in C:\\Users\\Franz Kiraly\\.cache\\huggingface\\hub\\models--amazon--chronos-bolt-tiny. Caching files will still work but in a degraded version that might require more space on your disk. This warning can be disabled by setting the `HF_HUB_DISABLE_SYMLINKS_WARNING` environment variable. For more details, see https://huggingface.co/docs/huggingface_hub/how-to-cache#limitations.\n",
      "To support symlinks on Windows, you either need to activate Developer Mode or to run Python as an administrator. In order to see activate developer mode, see this article: https://docs.microsoft.com/en-us/windows/apps/get-started/enable-your-device-for-development\n",
      "  warnings.warn(message)\n"
     ]
    },
    {
     "data": {
      "application/vnd.jupyter.widget-view+json": {
       "model_id": "84c832543c234cb384e243d7b1b2b59f",
       "version_major": 2,
       "version_minor": 0
      },
      "text/plain": [
       "model.safetensors:   0%|          | 0.00/34.6M [00:00<?, ?B/s]"
      ]
     },
     "metadata": {},
     "output_type": "display_data"
    },
    {
     "data": {
      "text/plain": [
       "(<Figure size 1600x400 with 1 Axes>,\n",
       " <Axes: ylabel='Number of airline passengers'>)"
      ]
     },
     "execution_count": 9,
     "metadata": {},
     "output_type": "execute_result"
    },
    {
     "data": {
      "image/png": "[encoded data removed]",
      "text/plain": [
       "<Figure size 1600x400 with 1 Axes>"
      ]
     },
     "metadata": {},
     "output_type": "display_data"
    }
   ],
   "source": [
    "from sktime.forecasting.chronos import ChronosForecaster\n",
    "\n",
    "chronos_bolt = ChronosForecaster(\"amazon/chronos-bolt-tiny\")\n",
    "\n",
    "chronos_bolt.fit(y, fh=list(range(1, pred_len+1)))\n",
    "y_pred = chronos_bolt.predict()\n",
    "\n",
    "plot_series(y, y_pred)"
   ]
  },
  {
   "cell_type": "markdown",
   "metadata": {},
   "source": [
    "#### with hierarchical data"
   ]
  },
  {
   "cell_type": "code",
   "execution_count": 24,
   "metadata": {},
   "outputs": [
    {
     "data": {
      "text/html": [
       "<div>\n",
       "<style scoped>\n",
       "    .dataframe tbody tr th:only-of-type {\n",
       "        vertical-align: middle;\n",
       "    }\n",
       "\n",
       "    .dataframe tbody tr th {\n",
       "        vertical-align: top;\n",
       "    }\n",
       "\n",
       "    .dataframe thead th {\n",
       "        text-align: right;\n",
       "    }\n",
       "</style>\n",
       "<table border=\"1\" class=\"dataframe\">\n",
       "  <thead>\n",
       "    <tr style=\"text-align: right;\">\n",
       "      <th></th>\n",
       "      <th></th>\n",
       "      <th></th>\n",
       "      <th>Sales</th>\n",
       "    </tr>\n",
       "    <tr>\n",
       "      <th>Product line</th>\n",
       "      <th>Product group</th>\n",
       "      <th>Date</th>\n",
       "      <th></th>\n",
       "    </tr>\n",
       "  </thead>\n",
       "  <tbody>\n",
       "    <tr>\n",
       "      <th rowspan=\"5\" valign=\"top\">Food preparation</th>\n",
       "      <th rowspan=\"5\" valign=\"top\">Hobs</th>\n",
       "      <th>2000-01</th>\n",
       "      <td>245.0</td>\n",
       "    </tr>\n",
       "    <tr>\n",
       "      <th>2000-02</th>\n",
       "      <td>144.0</td>\n",
       "    </tr>\n",
       "    <tr>\n",
       "      <th>2000-03</th>\n",
       "      <td>184.0</td>\n",
       "    </tr>\n",
       "    <tr>\n",
       "      <th>2000-04</th>\n",
       "      <td>265.0</td>\n",
       "    </tr>\n",
       "    <tr>\n",
       "      <th>2000-05</th>\n",
       "      <td>236.0</td>\n",
       "    </tr>\n",
       "    <tr>\n",
       "      <th>...</th>\n",
       "      <th>...</th>\n",
       "      <th>...</th>\n",
       "      <td>...</td>\n",
       "    </tr>\n",
       "    <tr>\n",
       "      <th rowspan=\"5\" valign=\"top\">Food preservation</th>\n",
       "      <th rowspan=\"5\" valign=\"top\">Fridges</th>\n",
       "      <th>2004-08</th>\n",
       "      <td>176.0</td>\n",
       "    </tr>\n",
       "    <tr>\n",
       "      <th>2004-09</th>\n",
       "      <td>205.0</td>\n",
       "    </tr>\n",
       "    <tr>\n",
       "      <th>2004-10</th>\n",
       "      <td>59.0</td>\n",
       "    </tr>\n",
       "    <tr>\n",
       "      <th>2004-11</th>\n",
       "      <td>151.0</td>\n",
       "    </tr>\n",
       "    <tr>\n",
       "      <th>2004-12</th>\n",
       "      <td>173.0</td>\n",
       "    </tr>\n",
       "  </tbody>\n",
       "</table>\n",
       "<p>240 rows × 1 columns</p>\n",
       "</div>"
      ],
      "text/plain": [
       "                                         Sales\n",
       "Product line      Product group Date          \n",
       "Food preparation  Hobs          2000-01  245.0\n",
       "                                2000-02  144.0\n",
       "                                2000-03  184.0\n",
       "                                2000-04  265.0\n",
       "                                2000-05  236.0\n",
       "...                                        ...\n",
       "Food preservation Fridges       2004-08  176.0\n",
       "                                2004-09  205.0\n",
       "                                2004-10   59.0\n",
       "                                2004-11  151.0\n",
       "                                2004-12  173.0\n",
       "\n",
       "[240 rows x 1 columns]"
      ]
     },
     "execution_count": 24,
     "metadata": {},
     "output_type": "execute_result"
    }
   ],
   "source": [
    "from sktime.datasets import load_hierarchical_sales_toydata\n",
    "\n",
    "y_hier = load_hierarchical_sales_toydata()\n",
    "y_hier"
   ]
  },
  {
   "cell_type": "code",
   "execution_count": null,
   "metadata": {},
   "outputs": [
    {
     "data": {
      "text/html": [
       "<style>#sk-c65bbd3a-224b-4880-aeb0-8fd57f0e006f {\n",
       "    /* Definition of color scheme common for light and dark mode */\n",
       "    --sklearn-color-text: black;\n",
       "    --sklearn-color-line: gray;\n",
       "    /* Definition of color scheme for objects */\n",
       "    --sklearn-color-level-0: #fff5e6;\n",
       "    --sklearn-color-level-1: #f6e4d2;\n",
       "    --sklearn-color-level-2: #ffe0b3;\n",
       "    --sklearn-color-level-3: chocolate;\n",
       "\n",
       "    /* Specific color for light theme */\n",
       "    --sklearn-color-text-on-default-background: var(--theme-code-foreground, var(--jp-content-font-color1, black));\n",
       "    --sklearn-color-background: var(--theme-background, var(--jp-layout-color0, white));\n",
       "    --sklearn-color-border-box: var(--theme-code-foreground, var(--jp-content-font-color1, black));\n",
       "    --sklearn-color-icon: #696969;\n",
       "\n",
       "    @media (prefers-color-scheme: dark) {\n",
       "      /* Redefinition of color scheme for dark theme */\n",
       "      --sklearn-color-text-on-default-background: var(--theme-code-foreground, var(--jp-content-font-color1, white));\n",
       "      --sklearn-color-background: var(--theme-background, var(--jp-layout-color0, #111));\n",
       "      --sklearn-color-border-box: var(--theme-code-foreground, var(--jp-content-font-color1, white));\n",
       "      --sklearn-color-icon: #878787;\n",
       "    }\n",
       "  }\n",
       "\n",
       "  #sk-c65bbd3a-224b-4880-aeb0-8fd57f0e006f {\n",
       "    color: var(--sklearn-color-text);\n",
       "  }\n",
       "\n",
       "  #sk-c65bbd3a-224b-4880-aeb0-8fd57f0e006f pre {\n",
       "    padding: 0;\n",
       "  }\n",
       "\n",
       "  #sk-c65bbd3a-224b-4880-aeb0-8fd57f0e006f input.sk-hidden--visually {\n",
       "    border: 0;\n",
       "    clip: rect(1px 1px 1px 1px);\n",
       "    clip: rect(1px, 1px, 1px, 1px);\n",
       "    height: 1px;\n",
       "    margin: -1px;\n",
       "    overflow: hidden;\n",
       "    padding: 0;\n",
       "    position: absolute;\n",
       "    width: 1px;\n",
       "  }\n",
       "\n",
       "  #sk-c65bbd3a-224b-4880-aeb0-8fd57f0e006f div.sk-dashed-wrapped {\n",
       "    border: 1px dashed var(--sklearn-color-line);\n",
       "    margin: 0 0.4em 0.5em 0.4em;\n",
       "    box-sizing: border-box;\n",
       "    padding-bottom: 0.4em;\n",
       "    background-color: var(--sklearn-color-background);\n",
       "  }\n",
       "\n",
       "  #sk-c65bbd3a-224b-4880-aeb0-8fd57f0e006f div.sk-container {\n",
       "    /* jupyter's `normalize.less` sets `[hidden] { display: none; }`\n",
       "       but bootstrap.min.css set `[hidden] { display: none !important; }`\n",
       "       so we also need the `!important` here to be able to override the\n",
       "       default hidden behavior on the sphinx rendered scikit-learn.org.\n",
       "       See: https://github.com/scikit-learn/scikit-learn/issues/21755 */\n",
       "    display: inline-block !important;\n",
       "    position: relative;\n",
       "  }\n",
       "\n",
       "  #sk-c65bbd3a-224b-4880-aeb0-8fd57f0e006f div.sk-text-repr-fallback {\n",
       "    display: none;\n",
       "  }\n",
       "\n",
       "  div.sk-parallel-item,\n",
       "  div.sk-serial,\n",
       "  div.sk-item {\n",
       "    /* draw centered vertical line to link estimators */\n",
       "    background-image: linear-gradient(var(--sklearn-color-text-on-default-background), var(--sklearn-color-text-on-default-background));\n",
       "    background-size: 2px 100%;\n",
       "    background-repeat: no-repeat;\n",
       "    background-position: center center;\n",
       "  }\n",
       "\n",
       "  /* Parallel-specific style estimator block */\n",
       "\n",
       "  #sk-c65bbd3a-224b-4880-aeb0-8fd57f0e006f div.sk-parallel-item::after {\n",
       "    content: \"\";\n",
       "    width: 100%;\n",
       "    border-bottom: 2px solid var(--sklearn-color-text-on-default-background);\n",
       "    flex-grow: 1;\n",
       "  }\n",
       "\n",
       "  #sk-c65bbd3a-224b-4880-aeb0-8fd57f0e006f div.sk-parallel {\n",
       "    display: flex;\n",
       "    align-items: stretch;\n",
       "    justify-content: center;\n",
       "    background-color: var(--sklearn-color-background);\n",
       "    position: relative;\n",
       "  }\n",
       "\n",
       "  #sk-c65bbd3a-224b-4880-aeb0-8fd57f0e006f div.sk-parallel-item {\n",
       "    display: flex;\n",
       "    flex-direction: column;\n",
       "  }\n",
       "\n",
       "  #sk-c65bbd3a-224b-4880-aeb0-8fd57f0e006f div.sk-parallel-item:first-child::after {\n",
       "    align-self: flex-end;\n",
       "    width: 50%;\n",
       "  }\n",
       "\n",
       "  #sk-c65bbd3a-224b-4880-aeb0-8fd57f0e006f div.sk-parallel-item:last-child::after {\n",
       "    align-self: flex-start;\n",
       "    width: 50%;\n",
       "  }\n",
       "\n",
       "  #sk-c65bbd3a-224b-4880-aeb0-8fd57f0e006f div.sk-parallel-item:only-child::after {\n",
       "    width: 0;\n",
       "  }\n",
       "\n",
       "  /* Serial-specific style estimator block */\n",
       "\n",
       "  #sk-c65bbd3a-224b-4880-aeb0-8fd57f0e006f div.sk-serial {\n",
       "    display: flex;\n",
       "    flex-direction: column;\n",
       "    align-items: center;\n",
       "    background-color: var(--sklearn-color-background);\n",
       "    padding-right: 1em;\n",
       "    padding-left: 1em;\n",
       "  }\n",
       "\n",
       "\n",
       "  /* Toggleable style: style used for estimator/Pipeline/ColumnTransformer box that is\n",
       "  clickable and can be expanded/collapsed.\n",
       "  - Pipeline and ColumnTransformer use this feature and define the default style\n",
       "  - Estimators will overwrite some part of the style using the `sk-estimator` class\n",
       "  */\n",
       "\n",
       "  /* Pipeline and ColumnTransformer style (default) */\n",
       "\n",
       "  #sk-c65bbd3a-224b-4880-aeb0-8fd57f0e006f div.sk-toggleable {\n",
       "    /* Default theme specific background. It is overwritten whether we have a\n",
       "    specific estimator or a Pipeline/ColumnTransformer */\n",
       "    background-color: var(--sklearn-color-background);\n",
       "  }\n",
       "\n",
       "  /* Toggleable label */\n",
       "  #sk-c65bbd3a-224b-4880-aeb0-8fd57f0e006f label.sk-toggleable__label {\n",
       "    cursor: pointer;\n",
       "    display: block;\n",
       "    width: 100%;\n",
       "    margin-bottom: 0;\n",
       "    padding: 0.5em;\n",
       "    box-sizing: border-box;\n",
       "    text-align: center;\n",
       "  }\n",
       "\n",
       "  #sk-c65bbd3a-224b-4880-aeb0-8fd57f0e006f label.sk-toggleable__label-arrow:before {\n",
       "    /* Arrow on the left of the label */\n",
       "    content: \"▸\";\n",
       "    float: left;\n",
       "    margin-right: 0.25em;\n",
       "    color: var(--sklearn-color-icon);\n",
       "  }\n",
       "\n",
       "  #sk-c65bbd3a-224b-4880-aeb0-8fd57f0e006f label.sk-toggleable__label-arrow:hover:before {\n",
       "    color: var(--sklearn-color-text);\n",
       "  }\n",
       "\n",
       "  /* Toggleable content - dropdown */\n",
       "\n",
       "  #sk-c65bbd3a-224b-4880-aeb0-8fd57f0e006f div.sk-toggleable__content {\n",
       "    max-height: 0;\n",
       "    max-width: 0;\n",
       "    overflow: hidden;\n",
       "    text-align: left;\n",
       "    background-color: var(--sklearn-color-level-0);\n",
       "  }\n",
       "\n",
       "  #sk-c65bbd3a-224b-4880-aeb0-8fd57f0e006f div.sk-toggleable__content pre {\n",
       "    margin: 0.2em;\n",
       "    border-radius: 0.25em;\n",
       "    color: var(--sklearn-color-text);\n",
       "    background-color: var(--sklearn-color-level-0);\n",
       "  }\n",
       "\n",
       "  #sk-c65bbd3a-224b-4880-aeb0-8fd57f0e006f input.sk-toggleable__control:checked~div.sk-toggleable__content {\n",
       "    /* Expand drop-down */\n",
       "    max-height: 200px;\n",
       "    max-width: 100%;\n",
       "    overflow: auto;\n",
       "  }\n",
       "\n",
       "  #sk-c65bbd3a-224b-4880-aeb0-8fd57f0e006f input.sk-toggleable__control:checked~label.sk-toggleable__label-arrow:before {\n",
       "    content: \"▾\";\n",
       "  }\n",
       "\n",
       "  /* Pipeline/ColumnTransformer-specific style */\n",
       "\n",
       "  #sk-c65bbd3a-224b-4880-aeb0-8fd57f0e006f div.sk-label input.sk-toggleable__control:checked~label.sk-toggleable__label {\n",
       "    color: var(--sklearn-color-text);\n",
       "    background-color: var(--sklearn-color-level-2);\n",
       "  }\n",
       "\n",
       "  /* Estimator-specific style */\n",
       "\n",
       "  /* Colorize estimator box */\n",
       "  #sk-c65bbd3a-224b-4880-aeb0-8fd57f0e006f div.sk-estimator input.sk-toggleable__control:checked~label.sk-toggleable__label {\n",
       "    /* unfitted */\n",
       "    background-color: var(--sklearn-color-level-2);\n",
       "  }\n",
       "\n",
       "  #sk-c65bbd3a-224b-4880-aeb0-8fd57f0e006f div.sk-label label.sk-toggleable__label,\n",
       "  #sk-c65bbd3a-224b-4880-aeb0-8fd57f0e006f div.sk-label label {\n",
       "    /* The background is the default theme color */\n",
       "    color: var(--sklearn-color-text-on-default-background);\n",
       "  }\n",
       "\n",
       "  /* On hover, darken the color of the background */\n",
       "  #sk-c65bbd3a-224b-4880-aeb0-8fd57f0e006f div.sk-label:hover label.sk-toggleable__label {\n",
       "    color: var(--sklearn-color-text);\n",
       "    background-color: var(--sklearn-color-level-2);\n",
       "  }\n",
       "\n",
       "  /* Estimator label */\n",
       "\n",
       "  #sk-c65bbd3a-224b-4880-aeb0-8fd57f0e006f div.sk-label label {\n",
       "    font-family: monospace;\n",
       "    font-weight: bold;\n",
       "    display: inline-block;\n",
       "    line-height: 1.2em;\n",
       "  }\n",
       "\n",
       "  #sk-c65bbd3a-224b-4880-aeb0-8fd57f0e006f div.sk-label-container {\n",
       "    text-align: center;\n",
       "  }\n",
       "\n",
       "  /* Estimator-specific */\n",
       "  #sk-c65bbd3a-224b-4880-aeb0-8fd57f0e006f div.sk-estimator {\n",
       "    font-family: monospace;\n",
       "    border: 1px dotted var(--sklearn-color-border-box);\n",
       "    border-radius: 0.25em;\n",
       "    box-sizing: border-box;\n",
       "    margin-bottom: 0.5em;\n",
       "    background-color: var(--sklearn-color-level-0);\n",
       "  }\n",
       "\n",
       "  /* on hover */\n",
       "  #sk-c65bbd3a-224b-4880-aeb0-8fd57f0e006f div.sk-estimator:hover {\n",
       "    background-color: var(--sklearn-color-level-2);\n",
       "  }\n",
       "\n",
       "  /* Specification for estimator info */\n",
       "\n",
       "  .sk-estimator-doc-link,\n",
       "  a:link.sk-estimator-doc-link,\n",
       "  a:visited.sk-estimator-doc-link {\n",
       "    float: right;\n",
       "    font-size: smaller;\n",
       "    line-height: 1em;\n",
       "    font-family: monospace;\n",
       "    background-color: var(--sklearn-color-background);\n",
       "    border-radius: 1em;\n",
       "    height: 1em;\n",
       "    width: 1em;\n",
       "    text-decoration: none !important;\n",
       "    margin-left: 1ex;\n",
       "    border: var(--sklearn-color-level-1) 1pt solid;\n",
       "    color: var(--sklearn-color-level-1);\n",
       "  }\n",
       "\n",
       "  /* On hover */\n",
       "  div.sk-estimator:hover .sk-estimator-doc-link:hover,\n",
       "  .sk-estimator-doc-link:hover,\n",
       "  div.sk-label-container:hover .sk-estimator-doc-link:hover,\n",
       "  .sk-estimator-doc-link:hover {\n",
       "    background-color: var(--sklearn-color-level-3);\n",
       "    color: var(--sklearn-color-background);\n",
       "    text-decoration: none;\n",
       "  }\n",
       "\n",
       "  /* Span, style for the box shown on hovering the info icon */\n",
       "  .sk-estimator-doc-link span {\n",
       "    display: none;\n",
       "    z-index: 9999;\n",
       "    position: relative;\n",
       "    font-weight: normal;\n",
       "    right: .2ex;\n",
       "    padding: .5ex;\n",
       "    margin: .5ex;\n",
       "    width: min-content;\n",
       "    min-width: 20ex;\n",
       "    max-width: 50ex;\n",
       "    color: var(--sklearn-color-text);\n",
       "    box-shadow: 2pt 2pt 4pt #999;\n",
       "    background: var(--sklearn-color-level-0);\n",
       "    border: .5pt solid var(--sklearn-color-level-3);\n",
       "  }\n",
       "\n",
       "  .sk-estimator-doc-link:hover span {\n",
       "    display: block;\n",
       "  }\n",
       "\n",
       "  /* \"?\"-specific style due to the `<a>` HTML tag */\n",
       "\n",
       "  #sk-c65bbd3a-224b-4880-aeb0-8fd57f0e006f a.estimator_doc_link {\n",
       "    float: right;\n",
       "    font-size: 1rem;\n",
       "    line-height: 1em;\n",
       "    font-family: monospace;\n",
       "    background-color: var(--sklearn-color-background);\n",
       "    border-radius: 1rem;\n",
       "    height: 1rem;\n",
       "    width: 1rem;\n",
       "    text-decoration: none;\n",
       "    color: var(--sklearn-color-level-1);\n",
       "    border: var(--sklearn-color-level-1) 1pt solid;\n",
       "  }\n",
       "\n",
       "  /* On hover */\n",
       "  #sk-c65bbd3a-224b-4880-aeb0-8fd57f0e006f a.estimator_doc_link:hover {\n",
       "    background-color: var(--sklearn-color-level-3);\n",
       "    color: var(--sklearn-color-background);\n",
       "    text-decoration: none;\n",
       "  }\n",
       "</style><div id='sk-c65bbd3a-224b-4880-aeb0-8fd57f0e006f' class=\"sk-top-container\"><div class=\"sk-text-repr-fallback\"><pre>ChronosForecaster(model_path=&#x27;amazon/chronos-bolt-tiny&#x27;)</pre><b>Please rerun this cell to show the HTML repr or trust the notebook.</b></div><div class=\"sk-container\" hidden><div class='sk-item'><div class=\"sk-estimator sk-toggleable\"><input class=\"sk-toggleable__control sk-hidden--visually\" id=UUID('11df3a19-d756-429c-95eb-26bad0029f43') type=\"checkbox\" checked><label for=UUID('11df3a19-d756-429c-95eb-26bad0029f43') class='sk-toggleable__label sk-toggleable__label-arrow'>ChronosForecaster<a class=\"sk-estimator-doc-link\" rel=\"noreferrer\" target=\"_blank\" href=\"https://www.sktime.net/en/v0.37.0/api_reference/auto_generated/sktime.forecasting.chronos.ChronosForecaster.html\">?<span>Documentation for ChronosForecaster</span></a></label><div class=\"sk-toggleable__content\"><pre>ChronosForecaster(model_path=&#x27;amazon/chronos-bolt-tiny&#x27;)</pre></div></div></div></div></div>"
      ],
      "text/plain": [
       "ChronosForecaster(model_path='amazon/chronos-bolt-tiny')"
      ]
     },
     "execution_count": 11,
     "metadata": {},
     "output_type": "execute_result"
    }
   ],
   "source": [
    "chronos_bolt.fit(y_hier, fh=list(range(1, pred_len+1)))"
   ]
  },
  {
   "cell_type": "code",
   "execution_count": 14,
   "metadata": {},
   "outputs": [
    {
     "data": {
      "text/html": [
       "<div>\n",
       "<style scoped>\n",
       "    .dataframe tbody tr th:only-of-type {\n",
       "        vertical-align: middle;\n",
       "    }\n",
       "\n",
       "    .dataframe tbody tr th {\n",
       "        vertical-align: top;\n",
       "    }\n",
       "\n",
       "    .dataframe thead th {\n",
       "        text-align: right;\n",
       "    }\n",
       "</style>\n",
       "<table border=\"1\" class=\"dataframe\">\n",
       "  <thead>\n",
       "    <tr style=\"text-align: right;\">\n",
       "      <th></th>\n",
       "      <th></th>\n",
       "      <th></th>\n",
       "      <th>Sales</th>\n",
       "    </tr>\n",
       "    <tr>\n",
       "      <th>Product line</th>\n",
       "      <th>Product group</th>\n",
       "      <th>Date</th>\n",
       "      <th></th>\n",
       "    </tr>\n",
       "  </thead>\n",
       "  <tbody>\n",
       "    <tr>\n",
       "      <th rowspan=\"5\" valign=\"top\">Food preparation</th>\n",
       "      <th rowspan=\"5\" valign=\"top\">Hobs</th>\n",
       "      <th>2005-01</th>\n",
       "      <td>127.047623</td>\n",
       "    </tr>\n",
       "    <tr>\n",
       "      <th>2005-02</th>\n",
       "      <td>166.439606</td>\n",
       "    </tr>\n",
       "    <tr>\n",
       "      <th>2005-03</th>\n",
       "      <td>134.411652</td>\n",
       "    </tr>\n",
       "    <tr>\n",
       "      <th>2005-04</th>\n",
       "      <td>142.272049</td>\n",
       "    </tr>\n",
       "    <tr>\n",
       "      <th>2005-05</th>\n",
       "      <td>122.165100</td>\n",
       "    </tr>\n",
       "    <tr>\n",
       "      <th>...</th>\n",
       "      <th>...</th>\n",
       "      <th>...</th>\n",
       "      <td>...</td>\n",
       "    </tr>\n",
       "    <tr>\n",
       "      <th rowspan=\"5\" valign=\"top\">Food preservation</th>\n",
       "      <th rowspan=\"5\" valign=\"top\">Fridges</th>\n",
       "      <th>2005-12</th>\n",
       "      <td>138.554977</td>\n",
       "    </tr>\n",
       "    <tr>\n",
       "      <th>2006-01</th>\n",
       "      <td>129.582779</td>\n",
       "    </tr>\n",
       "    <tr>\n",
       "      <th>2006-02</th>\n",
       "      <td>167.958160</td>\n",
       "    </tr>\n",
       "    <tr>\n",
       "      <th>2006-03</th>\n",
       "      <td>143.666641</td>\n",
       "    </tr>\n",
       "    <tr>\n",
       "      <th>2006-04</th>\n",
       "      <td>137.430206</td>\n",
       "    </tr>\n",
       "  </tbody>\n",
       "</table>\n",
       "<p>64 rows × 1 columns</p>\n",
       "</div>"
      ],
      "text/plain": [
       "                                              Sales\n",
       "Product line      Product group Date               \n",
       "Food preparation  Hobs          2005-01  127.047623\n",
       "                                2005-02  166.439606\n",
       "                                2005-03  134.411652\n",
       "                                2005-04  142.272049\n",
       "                                2005-05  122.165100\n",
       "...                                             ...\n",
       "Food preservation Fridges       2005-12  138.554977\n",
       "                                2006-01  129.582779\n",
       "                                2006-02  167.958160\n",
       "                                2006-03  143.666641\n",
       "                                2006-04  137.430206\n",
       "\n",
       "[64 rows x 1 columns]"
      ]
     },
     "execution_count": 14,
     "metadata": {},
     "output_type": "execute_result"
    }
   ],
   "source": [
    "y_pred_hier = chronos_bolt.predict()\n",
    "y_pred_hier"
   ]
  },
  {
   "cell_type": "markdown",
   "metadata": {},
   "source": [
    "same amount of memory! Check usage in OS profiler while executing."
   ]
  },
  {
   "cell_type": "markdown",
   "metadata": {},
   "source": [
    "#### getting probabilistic predictions\n",
    "\n",
    "... works via composition"
   ]
  },
  {
   "cell_type": "code",
   "execution_count": 26,
   "metadata": {},
   "outputs": [
    {
     "data": {
      "text/html": [
       "<div>\n",
       "<style scoped>\n",
       "    .dataframe tbody tr th:only-of-type {\n",
       "        vertical-align: middle;\n",
       "    }\n",
       "\n",
       "    .dataframe tbody tr th {\n",
       "        vertical-align: top;\n",
       "    }\n",
       "\n",
       "    .dataframe thead tr th {\n",
       "        text-align: left;\n",
       "    }\n",
       "\n",
       "    .dataframe thead tr:last-of-type th {\n",
       "        text-align: right;\n",
       "    }\n",
       "</style>\n",
       "<table border=\"1\" class=\"dataframe\">\n",
       "  <thead>\n",
       "    <tr>\n",
       "      <th></th>\n",
       "      <th></th>\n",
       "      <th></th>\n",
       "      <th colspan=\"2\" halign=\"left\">Sales</th>\n",
       "    </tr>\n",
       "    <tr>\n",
       "      <th></th>\n",
       "      <th></th>\n",
       "      <th></th>\n",
       "      <th colspan=\"2\" halign=\"left\">0.9</th>\n",
       "    </tr>\n",
       "    <tr>\n",
       "      <th></th>\n",
       "      <th></th>\n",
       "      <th></th>\n",
       "      <th>lower</th>\n",
       "      <th>upper</th>\n",
       "    </tr>\n",
       "    <tr>\n",
       "      <th>Product line</th>\n",
       "      <th>Product group</th>\n",
       "      <th>Date</th>\n",
       "      <th></th>\n",
       "      <th></th>\n",
       "    </tr>\n",
       "  </thead>\n",
       "  <tbody>\n",
       "    <tr>\n",
       "      <th rowspan=\"5\" valign=\"top\">Food preparation</th>\n",
       "      <th rowspan=\"5\" valign=\"top\">Hobs</th>\n",
       "      <th>2005-01</th>\n",
       "      <td>35.001233</td>\n",
       "      <td>199.658633</td>\n",
       "    </tr>\n",
       "    <tr>\n",
       "      <th>2005-02</th>\n",
       "      <td>38.38515</td>\n",
       "      <td>144.803229</td>\n",
       "    </tr>\n",
       "    <tr>\n",
       "      <th>2005-03</th>\n",
       "      <td>89.27318</td>\n",
       "      <td>140.89095</td>\n",
       "    </tr>\n",
       "    <tr>\n",
       "      <th>2005-04</th>\n",
       "      <td>86.742236</td>\n",
       "      <td>212.625272</td>\n",
       "    </tr>\n",
       "    <tr>\n",
       "      <th>2005-05</th>\n",
       "      <td>73.447153</td>\n",
       "      <td>196.591864</td>\n",
       "    </tr>\n",
       "    <tr>\n",
       "      <th>...</th>\n",
       "      <th>...</th>\n",
       "      <th>...</th>\n",
       "      <td>...</td>\n",
       "      <td>...</td>\n",
       "    </tr>\n",
       "    <tr>\n",
       "      <th rowspan=\"5\" valign=\"top\">Food preservation</th>\n",
       "      <th rowspan=\"5\" valign=\"top\">Fridges</th>\n",
       "      <th>2005-12</th>\n",
       "      <td>137.530986</td>\n",
       "      <td>200.51733</td>\n",
       "    </tr>\n",
       "    <tr>\n",
       "      <th>2006-01</th>\n",
       "      <td>129.58854</td>\n",
       "      <td>235.43547</td>\n",
       "    </tr>\n",
       "    <tr>\n",
       "      <th>2006-02</th>\n",
       "      <td>104.873163</td>\n",
       "      <td>184.173531</td>\n",
       "    </tr>\n",
       "    <tr>\n",
       "      <th>2006-03</th>\n",
       "      <td>92.329015</td>\n",
       "      <td>177.199643</td>\n",
       "    </tr>\n",
       "    <tr>\n",
       "      <th>2006-04</th>\n",
       "      <td>102.491201</td>\n",
       "      <td>143.014321</td>\n",
       "    </tr>\n",
       "  </tbody>\n",
       "</table>\n",
       "<p>64 rows × 2 columns</p>\n",
       "</div>"
      ],
      "text/plain": [
       "                                              Sales            \n",
       "                                                0.9            \n",
       "                                              lower       upper\n",
       "Product line      Product group Date                           \n",
       "Food preparation  Hobs          2005-01   35.001233  199.658633\n",
       "                                2005-02    38.38515  144.803229\n",
       "                                2005-03    89.27318   140.89095\n",
       "                                2005-04   86.742236  212.625272\n",
       "                                2005-05   73.447153  196.591864\n",
       "...                                             ...         ...\n",
       "Food preservation Fridges       2005-12  137.530986   200.51733\n",
       "                                2006-01   129.58854   235.43547\n",
       "                                2006-02  104.873163  184.173531\n",
       "                                2006-03   92.329015  177.199643\n",
       "                                2006-04  102.491201  143.014321\n",
       "\n",
       "[64 rows x 2 columns]"
      ]
     },
     "execution_count": 26,
     "metadata": {},
     "output_type": "execute_result"
    }
   ],
   "source": [
    "from sktime.forecasting.conformal import ConformalIntervals\n",
    "\n",
    "chronos_with_proba = ConformalIntervals(chronos_bolt, sample_frac=.1)\n",
    "chronos_with_proba.fit(y_hier, fh=list(range(1, pred_len+1)))\n",
    "y_pred_hier_proba = chronos_with_proba.predict_interval(coverage=0.9)\n",
    "y_pred_hier_proba"
   ]
  },
  {
   "cell_type": "markdown",
   "metadata": {},
   "source": [
    "example: STL bootstrap prediction intervals"
   ]
  },
  {
   "cell_type": "code",
   "execution_count": 29,
   "metadata": {},
   "outputs": [
    {
     "data": {
      "text/html": [
       "<div>\n",
       "<style scoped>\n",
       "    .dataframe tbody tr th:only-of-type {\n",
       "        vertical-align: middle;\n",
       "    }\n",
       "\n",
       "    .dataframe tbody tr th {\n",
       "        vertical-align: top;\n",
       "    }\n",
       "\n",
       "    .dataframe thead tr th {\n",
       "        text-align: left;\n",
       "    }\n",
       "\n",
       "    .dataframe thead tr:last-of-type th {\n",
       "        text-align: right;\n",
       "    }\n",
       "</style>\n",
       "<table border=\"1\" class=\"dataframe\">\n",
       "  <thead>\n",
       "    <tr>\n",
       "      <th></th>\n",
       "      <th colspan=\"2\" halign=\"left\">Number of airline passengers</th>\n",
       "    </tr>\n",
       "    <tr>\n",
       "      <th></th>\n",
       "      <th colspan=\"2\" halign=\"left\">0.9</th>\n",
       "    </tr>\n",
       "    <tr>\n",
       "      <th></th>\n",
       "      <th>lower</th>\n",
       "      <th>upper</th>\n",
       "    </tr>\n",
       "    <tr>\n",
       "      <th>time_index</th>\n",
       "      <th></th>\n",
       "      <th></th>\n",
       "    </tr>\n",
       "  </thead>\n",
       "  <tbody>\n",
       "    <tr>\n",
       "      <th>1961-01</th>\n",
       "      <td>456.820251</td>\n",
       "      <td>609.058472</td>\n",
       "    </tr>\n",
       "    <tr>\n",
       "      <th>1961-02</th>\n",
       "      <td>458.466278</td>\n",
       "      <td>612.661987</td>\n",
       "    </tr>\n",
       "    <tr>\n",
       "      <th>1961-03</th>\n",
       "      <td>445.122803</td>\n",
       "      <td>604.958374</td>\n",
       "    </tr>\n",
       "    <tr>\n",
       "      <th>1961-04</th>\n",
       "      <td>451.234772</td>\n",
       "      <td>601.825317</td>\n",
       "    </tr>\n",
       "    <tr>\n",
       "      <th>1961-05</th>\n",
       "      <td>460.205933</td>\n",
       "      <td>613.859375</td>\n",
       "    </tr>\n",
       "    <tr>\n",
       "      <th>1961-06</th>\n",
       "      <td>439.005798</td>\n",
       "      <td>595.531067</td>\n",
       "    </tr>\n",
       "    <tr>\n",
       "      <th>1961-07</th>\n",
       "      <td>446.579529</td>\n",
       "      <td>604.985107</td>\n",
       "    </tr>\n",
       "    <tr>\n",
       "      <th>1961-08</th>\n",
       "      <td>444.600677</td>\n",
       "      <td>599.598022</td>\n",
       "    </tr>\n",
       "    <tr>\n",
       "      <th>1961-09</th>\n",
       "      <td>453.176758</td>\n",
       "      <td>603.560059</td>\n",
       "    </tr>\n",
       "    <tr>\n",
       "      <th>1961-10</th>\n",
       "      <td>453.562195</td>\n",
       "      <td>604.656006</td>\n",
       "    </tr>\n",
       "    <tr>\n",
       "      <th>1961-11</th>\n",
       "      <td>473.909668</td>\n",
       "      <td>617.659607</td>\n",
       "    </tr>\n",
       "  </tbody>\n",
       "</table>\n",
       "</div>"
      ],
      "text/plain": [
       "           Number of airline passengers            \n",
       "                                    0.9            \n",
       "                                  lower       upper\n",
       "time_index                                         \n",
       "1961-01                      456.820251  609.058472\n",
       "1961-02                      458.466278  612.661987\n",
       "1961-03                      445.122803  604.958374\n",
       "1961-04                      451.234772  601.825317\n",
       "1961-05                      460.205933  613.859375\n",
       "1961-06                      439.005798  595.531067\n",
       "1961-07                      446.579529  604.985107\n",
       "1961-08                      444.600677  599.598022\n",
       "1961-09                      453.176758  603.560059\n",
       "1961-10                      453.562195  604.656006\n",
       "1961-11                      473.909668  617.659607"
      ]
     },
     "execution_count": 29,
     "metadata": {},
     "output_type": "execute_result"
    }
   ],
   "source": [
    "from sktime.forecasting.moirai_forecaster import MOIRAIForecaster\n",
    "from sktime.forecasting.compose import BaggingForecaster\n",
    "from sktime.transformations.bootstrap import STLBootstrapTransformer\n",
    "\n",
    "chronos_bootstrap = BaggingForecaster(STLBootstrapTransformer(), chronos_bolt)\n",
    "\n",
    "y = load_airline()\n",
    "chronos_bootstrap.fit(y, fh=range(1, 12))\n",
    "\n",
    "y_pred_bootstrap = chronos_bootstrap.predict_interval()\n",
    "y_pred_bootstrap\n"
   ]
  },
  {
   "cell_type": "markdown",
   "metadata": {},
   "source": [
    "### FM on the legal side"
   ]
  },
  {
   "cell_type": "markdown",
   "metadata": {},
   "source": [
    "FM are \"multi-component\" technology - API, weights, model code, data, ..."
   ]
  },
  {
   "cell_type": "markdown",
   "metadata": {},
   "source": [
    "* different artefacts under different licenses\n",
    "* **artefacts** and **usage** may be under different licenses\n",
    "* **licenses can be unstable!** stealth changes possible on HF or source installs\n",
    "* gated APIs usually subject to additional Terms and Conditions (which can change)"
   ]
  },
  {
   "cell_type": "markdown",
   "metadata": {},
   "source": [
    "legislators and regulators tend to be confused about these..."
   ]
  },
  {
   "cell_type": "markdown",
   "metadata": {},
   "source": [
    "<img src=\"./imgs/fm-license.png\" style=\"width: 100%; max-width: 600px;\">"
   ]
  },
  {
   "cell_type": "markdown",
   "metadata": {},
   "source": [
    "\"data\" is another component:\n",
    "\n",
    "* \"feeding\" data to a gated API feeds the data to the provider!\n",
    "    * data and data format may transport IP protected content!\n",
    "* data \"stolen\" by the provider may impact fine-tuned models or end-to-end pipes\n",
    "\n",
    "mid-2025 - unclear status with regards to EU AI act"
   ]
  },
  {
   "cell_type": "markdown",
   "metadata": {},
   "source": [
    "`sktime` tries to minimize license issues but cannot entirely remove them!\n",
    "\n",
    "* \"frozen\" code with version management\n",
    "* forks branch off at permissive licenses (prior stealth change to restrictive)\n",
    "    * view licenses in `libs` folder\n",
    "\n",
    "Caveat: if using weights, inspect weights licenses and T&C"
   ]
  },
  {
   "cell_type": "markdown",
   "metadata": {},
   "source": [
    "### methodology - so should I use foundation models now?"
   ]
  },
  {
   "cell_type": "markdown",
   "metadata": {},
   "source": [
    "FM are promosing category of models, but:\n",
    "\n",
    "* many competing FM!\n",
    "* every FM is 1st in some benchmark...\n",
    "* may or may not be useful for your data!\n",
    "\n",
    "General advice same as for other model:\n",
    "\n",
    "**test and benchmark on your own data!**\n",
    "\n",
    "**and compare pros/cons w.r.t. requirements for your use case!**\n",
    "\n",
    "(e.g., simplicity/interpretability, compute/memory, local/cloud, security)"
   ]
  },
  {
   "cell_type": "code",
   "execution_count": 31,
   "metadata": {},
   "outputs": [],
   "source": [
    "from sktime.benchmarking.forecasting import ForecastingBenchmark\n",
    "\n",
    "benchmark = ForecastingBenchmark()\n"
   ]
  },
  {
   "cell_type": "code",
   "execution_count": 32,
   "metadata": {},
   "outputs": [],
   "source": [
    "from sktime.forecasting.chronos import ChronosForecaster\n",
    "from sktime.forecasting.naive import NaiveForecaster\n",
    "\n",
    "benchmark.add_estimator(\n",
    "    estimator=NaiveForecaster(strategy=\"mean\", sp=12),\n",
    "    estimator_id=\"NaiveForecaster-mean-v1\",\n",
    ")\n",
    "benchmark.add_estimator(\n",
    "    estimator=NaiveForecaster(strategy=\"last\", sp=12),\n",
    "    estimator_id=\"NaiveForecaster-last-v1\",\n",
    ")\n",
    "benchmark.add_estimator(\n",
    "    estimator=ChronosForecaster(\"amazon/chronos-bolt-tiny\"),\n",
    "    estimator_id=\"chronos-bolt-tiny\",\n",
    ")"
   ]
  },
  {
   "cell_type": "code",
   "execution_count": 33,
   "metadata": {},
   "outputs": [],
   "source": [
    "from sktime.datasets import load_airline\n",
    "from sktime.performance_metrics.forecasting import MeanSquaredPercentageError\n",
    "from sktime.split import ExpandingWindowSplitter\n",
    "\n",
    "dataset_loader = load_airline\n",
    "cv_splitter = ExpandingWindowSplitter(\n",
    "    initial_window=24,\n",
    "    step_length=12,\n",
    "    fh=12,\n",
    ")\n",
    "scorers = [MeanSquaredPercentageError()]\n",
    "\n",
    "benchmark.add_task(\n",
    "    dataset_loader,\n",
    "    cv_splitter,\n",
    "    scorers,\n",
    ")"
   ]
  },
  {
   "cell_type": "code",
   "execution_count": 72,
   "metadata": {},
   "outputs": [
    {
     "data": {
      "text/html": [
       "<div>\n",
       "<style scoped>\n",
       "    .dataframe tbody tr th:only-of-type {\n",
       "        vertical-align: middle;\n",
       "    }\n",
       "\n",
       "    .dataframe tbody tr th {\n",
       "        vertical-align: top;\n",
       "    }\n",
       "\n",
       "    .dataframe thead th {\n",
       "        text-align: right;\n",
       "    }\n",
       "</style>\n",
       "<table border=\"1\" class=\"dataframe\">\n",
       "  <thead>\n",
       "    <tr style=\"text-align: right;\">\n",
       "      <th>model_id</th>\n",
       "      <th>NaiveForecaster-last-v1</th>\n",
       "      <th>NaiveForecaster-mean-v1</th>\n",
       "      <th>chronos-bolt-tiny</th>\n",
       "    </tr>\n",
       "  </thead>\n",
       "  <tbody>\n",
       "    <tr>\n",
       "      <th>MeanSquaredPercentageError_mean</th>\n",
       "      <td>0.014104</td>\n",
       "      <td>0.118918</td>\n",
       "      <td>0.019452</td>\n",
       "    </tr>\n",
       "    <tr>\n",
       "      <th>fit_time_mean</th>\n",
       "      <td>0.003798</td>\n",
       "      <td>0.003932</td>\n",
       "      <td>0.250292</td>\n",
       "    </tr>\n",
       "    <tr>\n",
       "      <th>pred_time_mean</th>\n",
       "      <td>0.035543</td>\n",
       "      <td>0.011438</td>\n",
       "      <td>0.093804</td>\n",
       "    </tr>\n",
       "  </tbody>\n",
       "</table>\n",
       "</div>"
      ],
      "text/plain": [
       "model_id                        NaiveForecaster-last-v1  \\\n",
       "MeanSquaredPercentageError_mean                0.014104   \n",
       "fit_time_mean                                  0.003798   \n",
       "pred_time_mean                                 0.035543   \n",
       "\n",
       "model_id                        NaiveForecaster-mean-v1 chronos-bolt-tiny  \n",
       "MeanSquaredPercentageError_mean                0.118918          0.019452  \n",
       "fit_time_mean                                  0.003932          0.250292  \n",
       "pred_time_mean                                 0.011438          0.093804  "
      ]
     },
     "execution_count": 72,
     "metadata": {},
     "output_type": "execute_result"
    }
   ],
   "source": [
    "df = benchmark.run(\"./forecasting_results.csv\")\n",
    "df = df.set_index(\"model_id\").T\n",
    "\n",
    "SELECTED_ROWS = [\n",
    "    \"MeanSquaredPercentageError_mean\",\n",
    "    \"fit_time_mean\",\n",
    "    \"pred_time_mean\",\n",
    "]\n",
    "\n",
    "df.loc[SELECTED_ROWS]"
   ]
  },
  {
   "cell_type": "markdown",
   "metadata": {},
   "source": [
    "complex models are often good, but not always the best!\n",
    "\n",
    "**trust but verify** :-)"
   ]
  },
  {
   "cell_type": "markdown",
   "metadata": {},
   "source": [
    "## Recap - Foundation Models"
   ]
  },
  {
   "cell_type": "markdown",
   "metadata": {},
   "source": [
    "* **pre-trained DL models** with zero-shot, few-shot and/or fine-tune capabilities\n",
    "* varying degrees of openness - fully open, semi-open, gated\n",
    "* hard to use directly, install, deploy, test - lock-in & lock-out dynamics\n",
    "\n",
    "`sktime` unified API makes use and comparison of multiple FM easy!\n",
    "\n",
    "* handling code, weights, parameters under the hood; zero-shot and fine-tuning\n",
    "* different weights backends - local, weight hubs, train from scratch\n",
    "* FM vendor mini-packages with stable code, interfaces, licenses\n",
    "\n",
    "**`sktime` is currently only framework that does this! Only neutral framework!**\n",
    "\n",
    "contribute if you find this useful.\n",
    "\n",
    "**best practice: always try and test on your own data!** FM or not."
   ]
  },
  {
   "cell_type": "markdown",
   "metadata": {},
   "source": [
    "## What's Next?"
   ]
  },
  {
   "cell_type": "markdown",
   "metadata": {},
   "source": [
    "Developing sktime compatible components\n",
    "\n",
    "* how you can add components yourself\n",
    "* `sktime` model marketplace\n",
    "* example - creating a custom forecaster"
   ]
  }
 ],
 "metadata": {
  "kernelspec": {
   "display_name": "sktime-skpro-skbase-312",
   "language": "python",
   "name": "python3"
  },
  "language_info": {
   "codemirror_mode": {
    "name": "ipython",
    "version": 3
   },
   "file_extension": ".py",
   "mimetype": "text/x-python",
   "name": "python",
   "nbconvert_exporter": "python",
   "pygments_lexer": "ipython3",
   "version": "3.12.4"
  }
 },
 "nbformat": 4,
 "nbformat_minor": 2
}
